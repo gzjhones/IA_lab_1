{
 "cells": [
  {
   "cell_type": "code",
   "execution_count": null,
   "id": "017bf9a1",
   "metadata": {},
   "outputs": [],
   "source": [
    "# !pip install tensorflow\n",
    "# !pip install tensorflowjs"
   ]
  },
  {
   "cell_type": "code",
   "execution_count": null,
   "id": "b4ce94cf",
   "metadata": {},
   "outputs": [],
   "source": [
    "#Importación de las librerías necesarias para el laboratorio\n",
    "import matplotlib.pyplot as plt\n",
    "import random\n",
    "import tensorflow as tf\n",
    "from tensorflow.keras.datasets import mnist\n",
    "from tensorflow.keras.models import Sequential\n",
    "from tensorflow.keras.layers import Dense\n",
    "from tensorflow.keras.layers import Dropout\n",
    "from tensorflow.keras.layers import Conv2D\n",
    "from tensorflow.keras.layers import MaxPooling2D\n",
    "from tensorflow.keras.layers import Dropout\n",
    "from tensorflow.keras.layers import Flatten\n",
    "from tensorflow.keras.utils import to_categorical"
   ]
  },
  {
   "cell_type": "code",
   "execution_count": null,
   "id": "9e216a5c",
   "metadata": {},
   "outputs": [],
   "source": [
    "#Imprimir las propiedades de Tensorflow en la VM\n",
    "!pip show tensorflow"
   ]
  },
  {
   "cell_type": "code",
   "execution_count": null,
   "id": "01b23584",
   "metadata": {},
   "outputs": [],
   "source": [
    "#Se obtienen los datos de entrenamiento y prueba en dos arreglos que contienen la información de las imágenes y las etiquetas\n",
    "(x_train, y_train), (x_test, y_test) = mnist.load_data()\n",
    "\n",
    "# Inicializar el plot\n",
    "plt.figure(figsize=(15, 3))\n",
    "\n",
    "# Cada Item tiene la configuración: 1 fila, 5 columnas y los items inician en 1 al inicio del ciclo for\n",
    "plotItem = 151\n",
    "\n",
    "for item in range(5):\n",
    "    # Posición del item en el plot\n",
    "    plt.subplot(plotItem)\n",
    "    # Se obtiene el máximo de elementos de x_train\n",
    "    max_value = x_train.shape[0]\n",
    "    # Aleatoriamente se obtiene un item de x_train\n",
    "    random_item = random.randint(0, max_value)\n",
    "    # Configuración para la impresión de la figura en escala de grises\n",
    "    plt.imshow(x_train[random_item], cmap=plt.get_cmap('gray'))\n",
    "    # Se añade la etiqueta que identifica a cada item como título\n",
    "    plt.title(f\"Etiquetado: {y_train[random_item]}\")\n",
    "    # Incrementamos la configuración de la figura en el plot\n",
    "    plotItem += 1\n",
    "    \n",
    "plt.show()\n",
    "\n",
    "print('Existen {} elementos dentro del arreglo x_train.'.format(x_train.shape[0]))\n",
    "print('La altura de cada imagen es de {} píxeles.'.format(x_train.shape[1]))\n",
    "print('El ancho de cada imagen es de {} píxeles.'.format(x_train.shape[2]))\n",
    "\n",
    "\n",
    "# Calcula el número total de píxeles en cada imagen, se obtiene el número total de píxeles por imagen: 784\n",
    "num_pixels = x_train.shape[1] * x_train.shape[2]\n",
    "# Cambiar la forma de x_train y x_test a una forma de 4 dimensiones con un tipo float32\n",
    "x_train = x_train.reshape((x_train.shape[0], 28, 28, 1)).astype('float32')\n",
    "x_test = x_test.reshape((x_test.shape[0], 28, 28, 1)).astype('float32')\n",
    "\n",
    "# Normalizar las entradas de 0-255 (imagen RGB) a 0-1\n",
    "x_train = x_train / 255\n",
    "x_test = x_test / 255\n",
    "\n",
    "# Codificación one-hot, cada etiqueta se representa como un vector con un único valor 1 en la posición correspondiente a la clase y 0s en todas las demás posiciones.\n",
    "y_train = to_categorical(y_train)\n",
    "y_test = to_categorical(y_test)\n",
    "\n",
    "# Obtener el número de clases (dimensionalidad de la codificación one-hot):\n",
    "num_classes = y_test.shape[1]\n",
    "\n",
    "# Crea una instancia de la clase Sequential de Keras. Un modelo secuencial es un tipo de modelo en el que las capas se apilan secuencialmente, es decir, una capa sigue a la anterior en un orden lineal.\n",
    "model = Sequential()\n",
    "\n",
    "# Añade una capa de convolución 2D al modelo secuencial. Esta capa aplicará 30 filtros de tamaño 5x5 a las imágenes de entrada de tamaño 28x28 píxeles con 1 canal. La salida de esta capa se pasará a través de la función de activación ReLU para introducir no linealidades.\n",
    "model.add(Conv2D(30, (5, 5), input_shape=(28, 28, 1), activation='relu'))\n",
    "# MaxPooling2D ayuda a reducir la resolución de las características espaciales y a mejorar la eficiencia y robustez del modelo. Max pooling es una técnica para reducir las dimensiones espaciales de las características, manteniendo la información más relevante.\n",
    "model.add(MaxPooling2D())\n",
    "# Añade una capa de convolución con 15 filtros de tamaño 3x3, utilizando la función de activación ReLU para extraer características adicionales de las imágenes en el modelo.\n",
    "model.add(Conv2D(15, (3, 3), activation='relu'))\n",
    "model.add(MaxPooling2D())\n",
    "# Añade una capa de regularización al modelo, apagando el 20% de las neuronas durante el entrenamiento para ayudar a prevenir el sobreajuste y mejorar la capacidad del modelo para generalizar a nuevos datos.\n",
    "model.add(Dropout(0.2))\n",
    "# Transforma la salida multidimensional de las capas anteriores en un vector unidimensional, lo que permite que esta salida sea utilizada por capas densas para la clasificación o regresión final. Es un paso esencial en la transición de las características extraídas a la fase de decisión en redes neuronales convolucionales.\n",
    "model.add(Flatten())\n",
    "# Añade una capa completamente conectada con 128 y 50 neuronas al modelo, donde cada neurona usa la función de activación ReLU. Esta capa es clave para aprender representaciones complejas de los datos y para realizar la clasificación o regresión final en el modelo.\n",
    "model.add(Dense(128, activation='relu'))\n",
    "model.add(Dense(50, activation='relu'))\n",
    "# Añade una capa de salida al modelo que tiene num_classes neuronas, cada una de las cuales representa una clase en el problema de clasificación. La función de activación softmax convierte los valores de salida en probabilidades que suman 1, facilitando la clasificación en múltiples categorías.\n",
    "model.add(Dense(num_classes, activation='softmax'))\n",
    "# Configura el modelo para el entrenamiento especificando cómo calcular la pérdida (categorical_crossentropy para clasificación multiclase), qué algoritmo de optimización usar (adam), y qué métrica usar para evaluar el rendimiento del modelo (precisión).\n",
    "model.compile(loss='categorical_crossentropy', optimizer='adam', metrics=['accuracy'])\n",
    "\n",
    "#batch_size: Determina cuántas muestras se procesan en una sola iteración antes de actualizar los pesos del modelo. Afecta la velocidad y la estabilidad del entrenamiento.\n",
    "\n",
    "#verbose: Controla el nivel de detalle que se muestra durante el entrenamiento. verbose=2 muestra información detallada al final de cada época, proporcionando una visión clara del progreso del entrenamiento."
   ]
  },
  {
   "cell_type": "code",
   "execution_count": null,
   "id": "9f8c4af7",
   "metadata": {},
   "outputs": [],
   "source": [
    "model.fit(x_train, y_train, validation_data=(x_test, y_test), epochs=1, batch_size=200, verbose=2)\n",
    "\n",
    "# Mide el rendimiento del modelo en el conjunto de datos de prueba, calculando la pérdida y las métricas definidas durante la compilación del modelo. La variable scores almacena estos resultados, permitiendo evaluar la calidad del modelo después del entrenamiento.\n",
    "scores = model.evaluate(x_test, y_test, verbose=0)\n",
    "\n",
    "# Calcula y muestra la tasa de error del modelo basado en su precisión. El error de referencia es la tasa de error del modelo, que se obtiene al restar la precisión en porcentaje de 100%. Esta medida permite comparar el rendimiento del modelo con una solución básica y evaluar su efectividad.\n",
    "print('Baseline Error: {}'.format(100-scores[1]*100))"
   ]
  },
  {
   "cell_type": "code",
   "execution_count": null,
   "id": "6bcf7f86",
   "metadata": {},
   "outputs": [],
   "source": [
    "tf.saved_model.save(model, \"./model\")"
   ]
  },
  {
   "cell_type": "code",
   "execution_count": null,
   "id": "5863c6e0",
   "metadata": {},
   "outputs": [],
   "source": [
    "!tensorflowjs_converter --input_format=tf_saved_model --output_format=tfjs_graph_model 'model/' 'modeljs/'"
   ]
  }
 ],
 "metadata": {
  "kernelspec": {
   "display_name": "mnist-env",
   "language": "python",
   "name": "python3"
  },
  "language_info": {
   "codemirror_mode": {
    "name": "ipython",
    "version": 3
   },
   "file_extension": ".py",
   "mimetype": "text/x-python",
   "name": "python",
   "nbconvert_exporter": "python",
   "pygments_lexer": "ipython3",
   "version": "3.10.16"
  }
 },
 "nbformat": 4,
 "nbformat_minor": 5
}
